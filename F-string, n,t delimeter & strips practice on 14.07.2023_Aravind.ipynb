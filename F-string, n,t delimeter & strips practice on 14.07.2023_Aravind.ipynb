{
 "cells": [
  {
   "cell_type": "code",
   "execution_count": 2,
   "id": "9d658e52",
   "metadata": {},
   "outputs": [
    {
     "name": "stdout",
     "output_type": "stream",
     "text": [
      "aravindreddy\n"
     ]
    }
   ],
   "source": [
    "firstname=\"aravind\"\n",
    "lastname=\"reddy\"\n",
    "print(f\"{firstname}{lastname}\")"
   ]
  },
  {
   "cell_type": "code",
   "execution_count": 3,
   "id": "22b8ff6f",
   "metadata": {},
   "outputs": [
    {
     "name": "stdout",
     "output_type": "stream",
     "text": [
      "AravindReddy\n"
     ]
    }
   ],
   "source": [
    "print(f\"{firstname.title()}{lastname.title()}\")"
   ]
  },
  {
   "cell_type": "code",
   "execution_count": 4,
   "id": "d87d00a4",
   "metadata": {},
   "outputs": [
    {
     "name": "stdout",
     "output_type": "stream",
     "text": [
      "Aravind\n",
      "Ramu\n",
      "Praveen\n",
      "Varahalu\n"
     ]
    }
   ],
   "source": [
    "print(\"Aravind\\nRamu\\nPraveen\\nVarahalu\")"
   ]
  },
  {
   "cell_type": "code",
   "execution_count": 8,
   "id": "52f3f421",
   "metadata": {},
   "outputs": [
    {
     "name": "stdout",
     "output_type": "stream",
     "text": [
      "Names:\n",
      "\tAravind\n",
      "\tRamu\n",
      "\tPraveen\n",
      "\tVarahalu\n"
     ]
    }
   ],
   "source": [
    "print(\"Names:\\n\\tAravind\\n\\tRamu\\n\\tPraveen\\n\\tVarahalu\")"
   ]
  },
  {
   "cell_type": "code",
   "execution_count": 17,
   "id": "78b61a33",
   "metadata": {},
   "outputs": [
    {
     "name": "stdout",
     "output_type": "stream",
     "text": [
      "Aravind\n"
     ]
    }
   ],
   "source": [
    "Name1=\"   Aravind\"\n",
    "Name2=\"Ramu   \"\n",
    "Name3=\"  Praveen  \"\n",
    "print(Name1.lstrip())"
   ]
  },
  {
   "cell_type": "raw",
   "id": "f0bdec8b",
   "metadata": {},
   "source": [
    "print(Name2.rstrip())"
   ]
  },
  {
   "cell_type": "code",
   "execution_count": 19,
   "id": "886a4e08",
   "metadata": {},
   "outputs": [
    {
     "name": "stdout",
     "output_type": "stream",
     "text": [
      "Praveen\n"
     ]
    }
   ],
   "source": [
    "print(Name3.strip())"
   ]
  },
  {
   "cell_type": "raw",
   "id": "83852fcd",
   "metadata": {},
   "source": []
  },
  {
   "cell_type": "code",
   "execution_count": 29,
   "id": "bb149537",
   "metadata": {},
   "outputs": [
    {
     "name": "stdout",
     "output_type": "stream",
     "text": [
      "Strip name:\n",
      "\tAravind\n",
      "\tRamu\n",
      "\tPraveen\n"
     ]
    }
   ],
   "source": [
    "print(f\"Strip name:\\n\\t{Name1.lstrip()}\\n\\t{Name2.rstrip()}\\n\\t{Name3.strip()}\")"
   ]
  },
  {
   "cell_type": "code",
   "execution_count": null,
   "id": "cf128f54",
   "metadata": {},
   "outputs": [],
   "source": []
  }
 ],
 "metadata": {
  "kernelspec": {
   "display_name": "Python 3 (ipykernel)",
   "language": "python",
   "name": "python3"
  },
  "language_info": {
   "codemirror_mode": {
    "name": "ipython",
    "version": 3
   },
   "file_extension": ".py",
   "mimetype": "text/x-python",
   "name": "python",
   "nbconvert_exporter": "python",
   "pygments_lexer": "ipython3",
   "version": "3.11.3"
  }
 },
 "nbformat": 4,
 "nbformat_minor": 5
}
