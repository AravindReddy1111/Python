{
 "cells": [
  {
   "cell_type": "code",
   "execution_count": 1,
   "id": "7db681fc",
   "metadata": {},
   "outputs": [],
   "source": [
    "Jaffa_List=[\"Aravind\", \"Ramu\", \"Varahalu\", \"Sathish\", \"Praveen\"]\n"
   ]
  },
  {
   "cell_type": "code",
   "execution_count": 2,
   "id": "585185c2",
   "metadata": {},
   "outputs": [
    {
     "name": "stdout",
     "output_type": "stream",
     "text": [
      "['Aravind', 'Ramu', 'Varahalu', 'Sathish', 'Praveen']\n"
     ]
    }
   ],
   "source": [
    "print(Jaffa_List)"
   ]
  },
  {
   "cell_type": "code",
   "execution_count": 3,
   "id": "df7aabcf",
   "metadata": {},
   "outputs": [],
   "source": [
    "List=[\"Aravind\", \"Ramu\", \"Varahalu\", \"Sathish\", \"Praveen\"]"
   ]
  },
  {
   "cell_type": "code",
   "execution_count": 5,
   "id": "bbb3fb4b",
   "metadata": {},
   "outputs": [
    {
     "name": "stdout",
     "output_type": "stream",
     "text": [
      "['Aravind', 'Ramu', 'Varahalu', 'Sathish', 'Praveen']\n"
     ]
    }
   ],
   "source": [
    "print(List)"
   ]
  },
  {
   "cell_type": "code",
   "execution_count": 7,
   "id": "c8fa454e",
   "metadata": {},
   "outputs": [
    {
     "data": {
      "text/plain": [
       "list"
      ]
     },
     "execution_count": 7,
     "metadata": {},
     "output_type": "execute_result"
    }
   ],
   "source": [
    "type(List)"
   ]
  },
  {
   "cell_type": "code",
   "execution_count": 9,
   "id": "bb524c4b",
   "metadata": {},
   "outputs": [
    {
     "ename": "NameError",
     "evalue": "name 'pirnt' is not defined",
     "output_type": "error",
     "traceback": [
      "\u001b[1;31m---------------------------------------------------------------------------\u001b[0m",
      "\u001b[1;31mNameError\u001b[0m                                 Traceback (most recent call last)",
      "Cell \u001b[1;32mIn[9], line 1\u001b[0m\n\u001b[1;32m----> 1\u001b[0m \u001b[43mpirnt\u001b[49m(Jaffa_List[\u001b[38;5;241m0\u001b[39m])\n",
      "\u001b[1;31mNameError\u001b[0m: name 'pirnt' is not defined"
     ]
    }
   ],
   "source": [
    "pirnt(Jaffa_List[0])"
   ]
  },
  {
   "cell_type": "code",
   "execution_count": 12,
   "id": "dc69989f",
   "metadata": {},
   "outputs": [],
   "source": [
    "Jaffa_List.append(\"Jaffa\")"
   ]
  },
  {
   "cell_type": "code",
   "execution_count": 13,
   "id": "b2bc6f13",
   "metadata": {},
   "outputs": [],
   "source": [
    "Jaffa_List.append(\"Jaffa\")"
   ]
  },
  {
   "cell_type": "code",
   "execution_count": 14,
   "id": "b1855115",
   "metadata": {},
   "outputs": [
    {
     "name": "stdout",
     "output_type": "stream",
     "text": [
      "['Aravind', 'Ramu', 'Varahalu', 'Sathish', 'Praveen', 'Jaffa', 'Jaffa', 'Jaffa']\n"
     ]
    }
   ],
   "source": [
    "print(Jaffa_List)"
   ]
  },
  {
   "cell_type": "code",
   "execution_count": 15,
   "id": "e55b9bd4",
   "metadata": {},
   "outputs": [
    {
     "name": "stdout",
     "output_type": "stream",
     "text": [
      "Ramu\n"
     ]
    }
   ],
   "source": [
    "print(Jaffa_List[1])"
   ]
  },
  {
   "cell_type": "code",
   "execution_count": 16,
   "id": "2906da87",
   "metadata": {},
   "outputs": [
    {
     "name": "stdout",
     "output_type": "stream",
     "text": [
      "Aravind\n"
     ]
    }
   ],
   "source": [
    "print(Jaffa_List[0])"
   ]
  },
  {
   "cell_type": "code",
   "execution_count": 17,
   "id": "4acc3d7f",
   "metadata": {},
   "outputs": [],
   "source": [
    "Jaffa_List.append(\"Govinda\")"
   ]
  },
  {
   "cell_type": "code",
   "execution_count": 18,
   "id": "1362e4ab",
   "metadata": {},
   "outputs": [
    {
     "name": "stdout",
     "output_type": "stream",
     "text": [
      "['Aravind', 'Ramu', 'Varahalu', 'Sathish', 'Praveen', 'Jaffa', 'Jaffa', 'Jaffa', 'Govinda']\n"
     ]
    }
   ],
   "source": [
    "print(Jaffa_List)"
   ]
  },
  {
   "cell_type": "code",
   "execution_count": 19,
   "id": "54b4c324",
   "metadata": {},
   "outputs": [],
   "source": [
    "Jaffa_List.insert(6,\"Ditch\")"
   ]
  },
  {
   "cell_type": "code",
   "execution_count": 20,
   "id": "b6d51b21",
   "metadata": {},
   "outputs": [
    {
     "name": "stdout",
     "output_type": "stream",
     "text": [
      "['Aravind', 'Ramu', 'Varahalu', 'Sathish', 'Praveen', 'Jaffa', 'Ditch', 'Jaffa', 'Jaffa', 'Govinda']\n"
     ]
    }
   ],
   "source": [
    "print(Jaffa_List)"
   ]
  },
  {
   "cell_type": "code",
   "execution_count": 22,
   "id": "9d38a320",
   "metadata": {},
   "outputs": [
    {
     "name": "stdout",
     "output_type": "stream",
     "text": [
      "ARAVIND\n"
     ]
    }
   ],
   "source": [
    "print(Jaffa_List[0].upper())"
   ]
  },
  {
   "cell_type": "code",
   "execution_count": 23,
   "id": "0613c04f",
   "metadata": {},
   "outputs": [],
   "source": [
    "Jaffa_List[0]=\"Aravind Reddy\""
   ]
  },
  {
   "cell_type": "code",
   "execution_count": 24,
   "id": "2efd4ea0",
   "metadata": {},
   "outputs": [
    {
     "name": "stdout",
     "output_type": "stream",
     "text": [
      "['Aravind Reddy', 'Ramu', 'Varahalu', 'Sathish', 'Praveen', 'Jaffa', 'Ditch', 'Jaffa', 'Jaffa', 'Govinda']\n"
     ]
    }
   ],
   "source": [
    "print(Jaffa_List)"
   ]
  },
  {
   "cell_type": "code",
   "execution_count": 25,
   "id": "cf8b4e9f",
   "metadata": {},
   "outputs": [
    {
     "data": {
      "text/plain": [
       "'Govinda'"
      ]
     },
     "execution_count": 25,
     "metadata": {},
     "output_type": "execute_result"
    }
   ],
   "source": [
    "Jaffa_List.pop()"
   ]
  },
  {
   "cell_type": "code",
   "execution_count": 26,
   "id": "77d2d818",
   "metadata": {},
   "outputs": [
    {
     "name": "stdout",
     "output_type": "stream",
     "text": [
      "['Aravind Reddy', 'Ramu', 'Varahalu', 'Sathish', 'Praveen', 'Jaffa', 'Ditch', 'Jaffa', 'Jaffa']\n"
     ]
    }
   ],
   "source": [
    "print(Jaffa_List)"
   ]
  },
  {
   "cell_type": "code",
   "execution_count": 28,
   "id": "f7456e3f",
   "metadata": {},
   "outputs": [],
   "source": [
    "x=Jaffa_List.pop(7)"
   ]
  },
  {
   "cell_type": "code",
   "execution_count": 29,
   "id": "8ff3fb2c",
   "metadata": {},
   "outputs": [
    {
     "name": "stdout",
     "output_type": "stream",
     "text": [
      "['Aravind Reddy', 'Ramu', 'Varahalu', 'Sathish', 'Praveen', 'Jaffa', 'Ditch', 'Jaffa']\n"
     ]
    }
   ],
   "source": [
    "print(Jaffa_List)"
   ]
  },
  {
   "cell_type": "code",
   "execution_count": 30,
   "id": "5180b668",
   "metadata": {},
   "outputs": [
    {
     "name": "stdout",
     "output_type": "stream",
     "text": [
      "Jaffa\n"
     ]
    }
   ],
   "source": [
    "print(x)"
   ]
  },
  {
   "cell_type": "code",
   "execution_count": 33,
   "id": "aea8f4b8",
   "metadata": {},
   "outputs": [
    {
     "ename": "SyntaxError",
     "evalue": "cannot delete function call (3263873144.py, line 1)",
     "output_type": "error",
     "traceback": [
      "\u001b[1;36m  Cell \u001b[1;32mIn[33], line 1\u001b[1;36m\u001b[0m\n\u001b[1;33m    del Jaffa_List(7)\u001b[0m\n\u001b[1;37m        ^\u001b[0m\n\u001b[1;31mSyntaxError\u001b[0m\u001b[1;31m:\u001b[0m cannot delete function call\n"
     ]
    }
   ],
   "source": [
    "del Jaffa_List(7)"
   ]
  },
  {
   "cell_type": "code",
   "execution_count": 34,
   "id": "d1eae617",
   "metadata": {},
   "outputs": [],
   "source": [
    "del Jaffa_List"
   ]
  },
  {
   "cell_type": "code",
   "execution_count": 35,
   "id": "9f2680c2",
   "metadata": {},
   "outputs": [
    {
     "ename": "NameError",
     "evalue": "name 'Jaffa_List' is not defined",
     "output_type": "error",
     "traceback": [
      "\u001b[1;31m---------------------------------------------------------------------------\u001b[0m",
      "\u001b[1;31mNameError\u001b[0m                                 Traceback (most recent call last)",
      "Cell \u001b[1;32mIn[35], line 1\u001b[0m\n\u001b[1;32m----> 1\u001b[0m \u001b[38;5;28mprint\u001b[39m(\u001b[43mJaffa_List\u001b[49m)\n",
      "\u001b[1;31mNameError\u001b[0m: name 'Jaffa_List' is not defined"
     ]
    }
   ],
   "source": [
    "print(Jaffa_List)"
   ]
  },
  {
   "cell_type": "code",
   "execution_count": 36,
   "id": "0723d4cd",
   "metadata": {},
   "outputs": [
    {
     "name": "stdout",
     "output_type": "stream",
     "text": [
      "['Aravind', 'Ramu', 'Varahalu', 'Sathish', 'Praveen']\n"
     ]
    }
   ],
   "source": [
    "print(List)"
   ]
  },
  {
   "cell_type": "code",
   "execution_count": 37,
   "id": "8e7ee75f",
   "metadata": {},
   "outputs": [
    {
     "ename": "TypeError",
     "evalue": "'type' object does not support item deletion",
     "output_type": "error",
     "traceback": [
      "\u001b[1;31m---------------------------------------------------------------------------\u001b[0m",
      "\u001b[1;31mTypeError\u001b[0m                                 Traceback (most recent call last)",
      "Cell \u001b[1;32mIn[37], line 1\u001b[0m\n\u001b[1;32m----> 1\u001b[0m \u001b[38;5;28;01mdel\u001b[39;00m \u001b[38;5;28;43mlist\u001b[39;49m\u001b[43m[\u001b[49m\u001b[38;5;241;43m4\u001b[39;49m\u001b[43m]\u001b[49m\n",
      "\u001b[1;31mTypeError\u001b[0m: 'type' object does not support item deletion"
     ]
    }
   ],
   "source": [
    "del list[4]"
   ]
  },
  {
   "cell_type": "code",
   "execution_count": 39,
   "id": "0fa8b410",
   "metadata": {},
   "outputs": [
    {
     "name": "stdout",
     "output_type": "stream",
     "text": [
      "['Aravind', 'Ramu', 'Varahalu', 'Sathish', 'Praveen']\n"
     ]
    }
   ],
   "source": [
    "print(List)"
   ]
  },
  {
   "cell_type": "code",
   "execution_count": null,
   "id": "06400cc2",
   "metadata": {},
   "outputs": [],
   "source": []
  }
 ],
 "metadata": {
  "kernelspec": {
   "display_name": "Python 3 (ipykernel)",
   "language": "python",
   "name": "python3"
  },
  "language_info": {
   "codemirror_mode": {
    "name": "ipython",
    "version": 3
   },
   "file_extension": ".py",
   "mimetype": "text/x-python",
   "name": "python",
   "nbconvert_exporter": "python",
   "pygments_lexer": "ipython3",
   "version": "3.11.3"
  }
 },
 "nbformat": 4,
 "nbformat_minor": 5
}
