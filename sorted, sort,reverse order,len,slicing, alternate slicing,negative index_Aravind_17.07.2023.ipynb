{
 "cells": [
  {
   "cell_type": "code",
   "execution_count": null,
   "id": "01e868f9",
   "metadata": {},
   "outputs": [],
   "source": [
    "Organising the list data type"
   ]
  },
  {
   "cell_type": "code",
   "execution_count": 1,
   "id": "bb3f2114",
   "metadata": {},
   "outputs": [],
   "source": [
    "cars=[\"Suziki\",\"Maruthi\",\"Honda\",\"Kia\",\"BMW\",\"Toyota\",\"Audi\",\"Benz\"]"
   ]
  },
  {
   "cell_type": "code",
   "execution_count": 2,
   "id": "35c43d69",
   "metadata": {},
   "outputs": [
    {
     "name": "stdout",
     "output_type": "stream",
     "text": [
      "['Suziki', 'Maruthi', 'Honda', 'Kia', 'BMW', 'Toyota', 'Audi', 'Benz']\n"
     ]
    }
   ],
   "source": [
    "print(cars)"
   ]
  },
  {
   "cell_type": "code",
   "execution_count": null,
   "id": "05a3e3bd",
   "metadata": {},
   "outputs": [],
   "source": [
    "# To know the data type"
   ]
  },
  {
   "cell_type": "code",
   "execution_count": 3,
   "id": "c940841a",
   "metadata": {},
   "outputs": [
    {
     "data": {
      "text/plain": [
       "list"
      ]
     },
     "execution_count": 3,
     "metadata": {},
     "output_type": "execute_result"
    }
   ],
   "source": [
    "type(cars)"
   ]
  },
  {
   "cell_type": "code",
   "execution_count": 10,
   "id": "90a29285",
   "metadata": {},
   "outputs": [
    {
     "name": "stdout",
     "output_type": "stream",
     "text": [
      "['Audi', 'BMW', 'Benz', 'Honda', 'Kia', 'Maruthi', 'Suziki', 'Toyota']\n"
     ]
    }
   ],
   "source": [
    "print(sorted(cars))"
   ]
  },
  {
   "cell_type": "code",
   "execution_count": 11,
   "id": "dbeaef1b",
   "metadata": {},
   "outputs": [
    {
     "name": "stdout",
     "output_type": "stream",
     "text": [
      "['Suziki', 'Maruthi', 'Honda', 'Kia', 'BMW', 'Toyota', 'Audi', 'Benz']\n"
     ]
    }
   ],
   "source": [
    "print(cars)"
   ]
  },
  {
   "cell_type": "code",
   "execution_count": 13,
   "id": "e415ac88",
   "metadata": {},
   "outputs": [],
   "source": [
    "cars.sort()"
   ]
  },
  {
   "cell_type": "code",
   "execution_count": 14,
   "id": "50b90dd9",
   "metadata": {},
   "outputs": [
    {
     "name": "stdout",
     "output_type": "stream",
     "text": [
      "['Audi', 'BMW', 'Benz', 'Honda', 'Kia', 'Maruthi', 'Suziki', 'Toyota']\n"
     ]
    }
   ],
   "source": [
    "print(cars)"
   ]
  },
  {
   "cell_type": "code",
   "execution_count": 16,
   "id": "5d5a192b",
   "metadata": {},
   "outputs": [
    {
     "name": "stdout",
     "output_type": "stream",
     "text": [
      "['Audi', 'BMW', 'Benz', 'Honda', 'Kia', 'Maruthi', 'Suziki', 'Toyota']\n"
     ]
    }
   ],
   "source": [
    "print(cars)"
   ]
  },
  {
   "cell_type": "code",
   "execution_count": 17,
   "id": "68f49077",
   "metadata": {},
   "outputs": [],
   "source": [
    "# Reverse order"
   ]
  },
  {
   "cell_type": "code",
   "execution_count": 24,
   "id": "762a47cc",
   "metadata": {},
   "outputs": [],
   "source": [
    "cars.reverse()"
   ]
  },
  {
   "cell_type": "code",
   "execution_count": 25,
   "id": "527f6b27",
   "metadata": {},
   "outputs": [
    {
     "name": "stdout",
     "output_type": "stream",
     "text": [
      "['Toyota', 'Suziki', 'Maruthi', 'Kia', 'Honda', 'Benz', 'BMW', 'Audi']\n"
     ]
    }
   ],
   "source": [
    "print(cars)"
   ]
  },
  {
   "cell_type": "code",
   "execution_count": null,
   "id": "761fe57b",
   "metadata": {},
   "outputs": [],
   "source": [
    "# to count no. of elements in the list"
   ]
  },
  {
   "cell_type": "code",
   "execution_count": 26,
   "id": "af9203c5",
   "metadata": {},
   "outputs": [
    {
     "data": {
      "text/plain": [
       "8"
      ]
     },
     "execution_count": 26,
     "metadata": {},
     "output_type": "execute_result"
    }
   ],
   "source": [
    "len(cars)"
   ]
  },
  {
   "cell_type": "code",
   "execution_count": null,
   "id": "2d22acde",
   "metadata": {},
   "outputs": [],
   "source": [
    "# How to do SLICING:"
   ]
  },
  {
   "cell_type": "code",
   "execution_count": 28,
   "id": "289abc86",
   "metadata": {},
   "outputs": [],
   "source": [
    "students=['aditi','sara','mounik','ramya','naveen','adil','kiran','david']"
   ]
  },
  {
   "cell_type": "code",
   "execution_count": 30,
   "id": "b4ccdb91",
   "metadata": {},
   "outputs": [
    {
     "name": "stdout",
     "output_type": "stream",
     "text": [
      "['aditi', 'sara', 'mounik', 'ramya', 'naveen', 'adil', 'kiran', 'david']\n"
     ]
    }
   ],
   "source": [
    "print(students)"
   ]
  },
  {
   "cell_type": "code",
   "execution_count": 32,
   "id": "980f9de0",
   "metadata": {},
   "outputs": [
    {
     "name": "stdout",
     "output_type": "stream",
     "text": [
      "['aditi']\n"
     ]
    }
   ],
   "source": [
    "print(students[0:1]) # to slice general syntax is [start value:stop value:step count]"
   ]
  },
  {
   "cell_type": "code",
   "execution_count": 33,
   "id": "214f5bf3",
   "metadata": {},
   "outputs": [
    {
     "name": "stdout",
     "output_type": "stream",
     "text": [
      "['aditi', 'sara']\n"
     ]
    }
   ],
   "source": [
    "print(students[0:2])"
   ]
  },
  {
   "cell_type": "code",
   "execution_count": 35,
   "id": "a09495cc",
   "metadata": {},
   "outputs": [
    {
     "name": "stdout",
     "output_type": "stream",
     "text": [
      "['ramya', 'naveen']\n"
     ]
    }
   ],
   "source": [
    "print(students[3:5])"
   ]
  },
  {
   "cell_type": "code",
   "execution_count": 37,
   "id": "51afd16a",
   "metadata": {},
   "outputs": [
    {
     "name": "stdout",
     "output_type": "stream",
     "text": [
      "['aditi', 'ramya', 'kiran']\n"
     ]
    }
   ],
   "source": [
    "print(students[0:8:3])   # to get alternate slicing-general syntax is [start value:end value:step count]"
   ]
  },
  {
   "cell_type": "code",
   "execution_count": null,
   "id": "686e9a2f",
   "metadata": {},
   "outputs": [],
   "source": [
    "# Negative index:"
   ]
  },
  {
   "cell_type": "code",
   "execution_count": 40,
   "id": "f007c9aa",
   "metadata": {},
   "outputs": [
    {
     "name": "stdout",
     "output_type": "stream",
     "text": [
      "['aditi', 'sara', 'mounik', 'ramya', 'naveen', 'adil', 'kiran', 'david']\n"
     ]
    }
   ],
   "source": [
    "print(students)"
   ]
  },
  {
   "cell_type": "code",
   "execution_count": 42,
   "id": "95ebec05",
   "metadata": {},
   "outputs": [
    {
     "name": "stdout",
     "output_type": "stream",
     "text": [
      "kiran\n"
     ]
    }
   ],
   "source": [
    "print(students[-2])"
   ]
  },
  {
   "cell_type": "code",
   "execution_count": null,
   "id": "563eef3d",
   "metadata": {},
   "outputs": [],
   "source": []
  }
 ],
 "metadata": {
  "kernelspec": {
   "display_name": "Python 3 (ipykernel)",
   "language": "python",
   "name": "python3"
  },
  "language_info": {
   "codemirror_mode": {
    "name": "ipython",
    "version": 3
   },
   "file_extension": ".py",
   "mimetype": "text/x-python",
   "name": "python",
   "nbconvert_exporter": "python",
   "pygments_lexer": "ipython3",
   "version": "3.11.3"
  }
 },
 "nbformat": 4,
 "nbformat_minor": 5
}
